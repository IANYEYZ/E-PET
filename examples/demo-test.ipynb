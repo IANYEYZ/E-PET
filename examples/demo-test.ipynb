{
 "cells": [
  {
   "cell_type": "markdown",
   "id": "27d0d14f",
   "metadata": {},
   "source": [
    "# 🧠 欢迎来到未来科技营\n",
    "\n",
    "请确保你的设备已正确连接所有部件，并准备好体验互动吧！🚀"
   ]
  },
  {
   "cell_type": "markdown",
   "id": "9c9da2be-d4b2-4e5f-be29-3c15f69bdcba",
   "metadata": {},
   "source": [
    "## 反馈系统"
   ]
  },
  {
   "cell_type": "markdown",
   "id": "f6655dda-bdba-4413-a3ba-8564107a6e88",
   "metadata": {},
   "source": [
    "### 反馈系统 - 声音"
   ]
  },
  {
   "cell_type": "code",
   "execution_count": 2,
   "id": "04bc977d-db00-4e37-a8c5-382e97e94d43",
   "metadata": {},
   "outputs": [],
   "source": [
    "# 初始化代码，仅需执行一次\n",
    "\n",
    "# 📦 导入库\n",
    "import os\n",
    "import alsaaudio\n",
    "import sounddevice as sd\n",
    "import simpleaudio as sa\n",
    "\n",
    "# 设置 ALSA_CARD 为第一个 USB 输出设备的索引（如存在）\n",
    "# 查找包含 'usb' 的音频输出设备\n",
    "dev = next((d for d in sd.query_devices() if d['max_output_channels'] > 0 and 'usb' in d['name'].lower()), None)\n",
    "# 设置 ALSA_CARD 环境变量以使用 USB 设备\n",
    "if dev: os.environ['ALSA_CARD'] = str(dev['index'])"
   ]
  },
  {
   "cell_type": "code",
   "execution_count": null,
   "id": "e0aaa0ce-97b6-448a-be0b-b4b54514e27b",
   "metadata": {},
   "outputs": [],
   "source": [
    "# 建议每次播放前都调整音量\n",
    "\n",
    "# 设置音量\n",
    "m = alsaaudio.Mixer('PCM')\n",
    "# 设置音量为最大 100%\n",
    "m.setvolume(100)\n",
    "\n",
    "# 播放测试音频\n",
    "# 加载并播放音频文件\n",
    "wave_obj = sa.WaveObject.from_wave_file(\"output.wav\")\n",
    "play_obj = wave_obj.play()\n",
    "play_obj.wait_done()"
   ]
  },
  {
   "cell_type": "markdown",
   "id": "fffd1a7a-d54f-4829-ad32-df264146c94b",
   "metadata": {},
   "source": [
    "### 反馈系统 - 快动作"
   ]
  },
  {
   "cell_type": "code",
   "execution_count": 34,
   "id": "835eeae5-8b46-4022-9366-78f3b49cb086",
   "metadata": {},
   "outputs": [],
   "source": [
    "# 初始化代码，仅需执行一次\n",
    "\n",
    "# 📦 导入库\n",
    "import time\n",
    "from adafruit_servokit import ServoKit\n",
    "kit=ServoKit(channels=16)\n",
    "\n",
    "arm_left = kit.continuous_servo[14] # 根据实际连接顺序调整\n",
    "arm_right = kit.continuous_servo[15] # 根据实际连接顺序调整\n",
    "\n",
    "wheel_front_left = kit.continuous_servo[3] # 根据实际连接顺序调整\n",
    "wheel_front_right = kit.continuous_servo[2] # 根据实际连接顺序调整\n",
    "wheel_back_left = kit.continuous_servo[1] # 根据实际连接顺序调整\n",
    "wheel_back_right = kit.continuous_servo[0] # 根据实际连接顺序调整"
   ]
  },
  {
   "cell_type": "code",
   "execution_count": 11,
   "id": "fefe08d0-d6bc-41c7-928f-9c8d3d92718d",
   "metadata": {},
   "outputs": [],
   "source": [
    "# 全部停止\n",
    "arm_left.throttle = 0.2\n",
    "arm_right.throttle = 0.2\n",
    "\n",
    "wheel_front_left.throttle = 0.2\n",
    "wheel_front_right.throttle = 0.2\n",
    "wheel_back_left.throttle = 0.2\n",
    "wheel_back_right.throttle = 0.2"
   ]
  },
  {
   "cell_type": "code",
   "execution_count": 3,
   "id": "5c4df91d-38ae-4a20-b3a6-357ad38e7e46",
   "metadata": {},
   "outputs": [],
   "source": [
    "# 左臂慢速旋转\n",
    "arm_left.throttle = 0.2\n",
    "time.sleep(0.5) # 旋转 0.5s\n",
    "arm_left.throttle = 0.1"
   ]
  },
  {
   "cell_type": "code",
   "execution_count": 4,
   "id": "0cc850e9-931a-426f-bb0a-6579f9d8f3e4",
   "metadata": {},
   "outputs": [],
   "source": [
    "# 左臂快速旋转\n",
    "arm_left.throttle = 1\n",
    "time.sleep(0.5) # 旋转 0.5s\n",
    "arm_left.throttle = 0.1"
   ]
  },
  {
   "cell_type": "code",
   "execution_count": 5,
   "id": "919dde53",
   "metadata": {},
   "outputs": [],
   "source": [
    "# 单轮慢速旋转\n",
    "wheel_back_right.throttle = 0.2\n",
    "time.sleep(0.3) # 旋转 0.3s\n",
    "wheel_back_right.throttle = 0.1"
   ]
  },
  {
   "cell_type": "code",
   "execution_count": 16,
   "id": "f63a9668",
   "metadata": {},
   "outputs": [],
   "source": [
    "wheel_front_left.throttle = 0.2\n",
    "wheel_front_right.throttle = 0.2\n",
    "wheel_back_left.throttle = 0.2\n",
    "wheel_back_right.throttle = 0.2"
   ]
  },
  {
   "cell_type": "code",
   "execution_count": 35,
   "id": "b0284ed7",
   "metadata": {},
   "outputs": [],
   "source": [
    "# 旋转\n",
    "wheel_front_left.throttle = 1\n",
    "wheel_front_right.throttle = -1\n",
    "wheel_back_left.throttle = 1\n",
    "wheel_back_right.throttle = -1\n",
    "\n",
    "time.sleep(5)\n",
    "\n",
    "wheel_front_left.throttle = 0.2\n",
    "wheel_front_right.throttle = 0.2\n",
    "wheel_back_left.throttle = 0.2\n",
    "wheel_back_right.throttle = 0.2"
   ]
  },
  {
   "cell_type": "markdown",
   "id": "ec6eb0b1-88a7-4ee8-9c05-9df7378323c8",
   "metadata": {},
   "source": [
    "### 反馈系统 - 显示图片"
   ]
  },
  {
   "cell_type": "code",
   "execution_count": 1,
   "id": "c5ae33f7-10e1-4246-8e9a-5b55b93799aa",
   "metadata": {},
   "outputs": [],
   "source": [
    "# 初始化代码，仅能执行一次\n",
    "\n",
    "from lib import LCD_2inch\n",
    "from PIL import Image\n",
    "\n",
    "disp = LCD_2inch.LCD_2inch()\n",
    "disp.Init() # 点亮屏幕，首次点亮会有乱码"
   ]
  },
  {
   "cell_type": "code",
   "execution_count": 2,
   "id": "835487ee-01db-45c6-b5ce-598b7c3687dc",
   "metadata": {},
   "outputs": [],
   "source": [
    "# 读取并打开图像文件\n",
    "image = Image.open('emotions/Furina_Icon.webp')\n",
    "image = image.resize((320, 240))  # 缩放为 320x240\n",
    "# 显示图像\n",
    "disp.ShowImage(image) # 显示图像"
   ]
  },
  {
   "cell_type": "code",
   "execution_count": 48,
   "id": "0efbc47f-4cef-41a3-a383-6b301c61e0a6",
   "metadata": {},
   "outputs": [],
   "source": [
    "for i in range(0, 320):\n",
    "    disp.setPixel(0, i, 0b11111111111111111)"
   ]
  },
  {
   "cell_type": "markdown",
   "id": "4250dc3e-4d00-44ac-88d1-3379837dab2a",
   "metadata": {},
   "source": [
    "### 反馈系统 - 显示GIF表情"
   ]
  },
  {
   "cell_type": "code",
   "execution_count": 44,
   "id": "1b10c732-10b6-412e-a1c6-cf4c384aa18e",
   "metadata": {},
   "outputs": [],
   "source": [
    "# 选择你想显示的表情文件：”dizzy.gif”, “happy.gif”, \"sad.gif\", \"sleep.gif\", \"blink.gif\"\n",
    "# 读取并打开图像文件\n",
    "gif = Image.open('emotions/blink.gif')\n",
    "\n",
    "# 循环显示 3 次\n",
    "for i in range(3):\n",
    "    for i in range(gif.n_frames):\n",
    "        gif.seek(i)\n",
    "        image = gif.convert(\"RGB\")\n",
    "        disp.ShowImage(image) # 显示图像"
   ]
  },
  {
   "cell_type": "markdown",
   "id": "d9096b25-a938-4536-9be6-cb90416c2ec5",
   "metadata": {},
   "source": [
    "# 感知系统"
   ]
  },
  {
   "cell_type": "markdown",
   "id": "1e9aa3b3-8171-4558-a49f-5176b7b0dbdf",
   "metadata": {},
   "source": [
    "### 感知系统 - 听觉（麦克风）"
   ]
  },
  {
   "cell_type": "code",
   "execution_count": null,
   "id": "27665980-0fcd-45eb-9d04-6189d5e4ae4c",
   "metadata": {},
   "outputs": [],
   "source": [
    "# 初始化代码，仅需执行一次\n",
    "\n",
    "# 📦 导入库\n",
    "import de as sd\n",
    "from scipy.io.wavfile import write\n",
    "import numpy as np"
   ]
  },
  {
   "cell_type": "code",
   "execution_count": null,
   "id": "c5faf3b1-468a-4ea6-9ebe-3cddc8213d82",
   "metadata": {},
   "outputs": [],
   "source": [
    "fs = 44100 # 采样频率\n",
    "seconds = 5 # 录音时长，单位：秒\n",
    "\n",
    "print(\"* 开始录音\")\n",
    "myrecording = sd.rec(int(seconds * fs), samplerate=fs, channels=1) # 录制音频\n",
    "sd.wait() # 等待录音完成\n",
    "print(\"* 录音结束\")\n",
    "\n",
    "# 将浮点格式转换为整数格式\n",
    "myrecording = np.int16(myrecording / np.max(np.abs(myrecording)) * 32767)\n",
    "\n",
    "# 保存音频文件\n",
    "write(\"output.wav\", fs, myrecording)"
   ]
  },
  {
   "cell_type": "code",
   "execution_count": null,
   "id": "512cca05-51c6-4056-bf7d-902aee2e40e4",
   "metadata": {},
   "outputs": [],
   "source": [
    "# 播放录制音频文件\n",
    "\n",
    "# 设置音量\n",
    "m = alsaaudio.Mixer('PCM')\n",
    "# 设置音量为 50%\n",
    "m.setvolume(50)\n",
    "\n",
    "# 播放测试音频\n",
    "# 加载并播放音频文件\n",
    "wave_obj = sa.WaveObject.from_wave_file(\"output.wav\")\n",
    "play_obj = wave_obj.play()\n",
    "play_obj.wait_done()"
   ]
  },
  {
   "cell_type": "markdown",
   "id": "7701fb50-859f-4e4c-81e8-3faeda018b98",
   "metadata": {},
   "source": [
    "### 感知系统 - 触摸（传感器）"
   ]
  },
  {
   "cell_type": "code",
   "execution_count": null,
   "id": "4a6b1c80-ba03-4c66-a9b0-765b1f425cda",
   "metadata": {},
   "outputs": [],
   "source": [
    "# 初始化代码，仅能执行一次\n",
    "\n",
    "# 📦 导入库\n",
    "import lgpio\n",
    "\n",
    "# 告诉系统：\"我要开始使用GPIO了\"\n",
    "h = lgpio.gpiochip_open(0)\n",
    "\n",
    "# 引脚配置\n",
    "touch_pin = 17\n",
    "\n",
    "# 相当于告诉硬件：\"这两个引脚用于接收信号\"\n",
    "lgpio.gpio_claim_input(h, touch_pin) # 将17号引脚配置为输入模式"
   ]
  },
  {
   "cell_type": "code",
   "execution_count": null,
   "id": "b7c022e3-bfd1-40f1-b906-23885f498e81",
   "metadata": {},
   "outputs": [],
   "source": [
    "touch = lgpio.gpio_read(h, touch_pin) # 读取17号引脚的当前电平值（0/1）\n",
    "if touch:\n",
    "    print(\"Touch detected\")"
   ]
  },
  {
   "cell_type": "markdown",
   "id": "d47c314d-a4e0-4ed9-9843-9b7c474fb5ea",
   "metadata": {},
   "source": [
    "### 感知系统 - 视觉"
   ]
  },
  {
   "cell_type": "code",
   "execution_count": 71,
   "id": "6e577a4a-8902-492d-b592-93a968ba1246",
   "metadata": {},
   "outputs": [
    {
     "name": "stdout",
     "output_type": "stream",
     "text": [
      "✅ 拍照成功，图片保存为 test_camera.jpg\n"
     ]
    }
   ],
   "source": [
    "# 📦 导入库\n",
    "import cv2\n",
    "from PIL import Image\n",
    "\n",
    "# 初始化摄像头\n",
    "cap = cv2.VideoCapture(0)\n",
    "if not cap.isOpened():\n",
    "    print(\"❌ 摄像头无法打开\")\n",
    "else:\n",
    "    for _ in range(5):  # 先热身几帧\n",
    "        cap.read()\n",
    "\n",
    "    ret, frame = cap.read()\n",
    "    cap.release()\n",
    "\n",
    "    if ret:\n",
    "        frame_rgb = cv2.cvtColor(frame, cv2.COLOR_BGR2RGB)\n",
    "        # image = Image.fromarray(frame_rgb)\n",
    "        # image = image.resize((320, 240))  # 缩放为 320x240\n",
    "        # disp.ShowImage(image)  # 显示图像\n",
    "        cv2.imwrite(\"test_camera.jpg\", frame)\n",
    "        print(\"✅ 拍照成功，图片保存为 test_camera.jpg\")\n",
    "    else:\n",
    "        print(\"❌ 拍照失败\")"
   ]
  },
  {
   "cell_type": "code",
   "execution_count": null,
   "id": "b2e53c1d-c118-4570-a0c2-6d5caf975643",
   "metadata": {},
   "outputs": [],
   "source": [
    "from IPython.display import Image as displayImage, display\n",
    "display(displayImage(filename=\"test_camera.jpg\", width=480))"
   ]
  },
  {
   "cell_type": "code",
   "execution_count": null,
   "id": "50b7c97f-a4b7-41da-b8d4-6aed6342d469",
   "metadata": {},
   "outputs": [],
   "source": [
    "# 读取并打开图像文件\n",
    "image = Image.open(\"test_camera.jpg\")\n",
    "image = image.resize((320, 240))  # 缩放为 320x240\n",
    "disp.ShowImage(image)  # 显示图像"
   ]
  },
  {
   "cell_type": "markdown",
   "id": "bc09e715",
   "metadata": {},
   "source": [
    "---\n",
    "🎉 恭喜你完成了的所有测试步骤！\n",
    "\n",
    "下一步你可以尝试：\n",
    "- 添加语音识别模块\n",
    "- 使用图像识别进行互动反馈\n",
    "- ...\n",
    "\n",
    "继续探索吧！💡"
   ]
  },
  {
   "cell_type": "markdown",
   "id": "11a68d4f",
   "metadata": {},
   "source": []
  },
  {
   "cell_type": "code",
   "execution_count": 59,
   "id": "5824c061-0eec-4306-8912-6e4cf659ab44",
   "metadata": {},
   "outputs": [
    {
     "name": "stdout",
     "output_type": "stream",
     "text": [
      "Opened\n"
     ]
    },
    {
     "name": "stderr",
     "output_type": "stream",
     "text": [
      "\n",
      "KeyboardInterrupt\n",
      "\n"
     ]
    }
   ],
   "source": [
    "import cv2\n",
    "cap = cv2.VideoCapture(\"https://live.cyezoi.com/live/zhichun.flv\")\n",
    "if cap.isOpened():\n",
    "    print(\"Opened\")\n",
    "while cap.isOpened():\n",
    "    ret, frame = cap.read()\n",
    "    if not ret:\n",
    "        print(\"failed\")\n",
    "    disp.ShowImage(Image.fromarray(frame).resize((320, 240)))"
   ]
  },
  {
   "cell_type": "code",
   "execution_count": null,
   "id": "8c78606d-cd92-4ccd-92cb-151ab868bdf1",
   "metadata": {},
   "outputs": [],
   "source": []
  }
 ],
 "metadata": {
  "kernelspec": {
   "display_name": "Python 3 (ipykernel)",
   "language": "python",
   "name": "python3"
  },
  "language_info": {
   "codemirror_mode": {
    "name": "ipython",
    "version": 3
   },
   "file_extension": ".py",
   "mimetype": "text/x-python",
   "name": "python",
   "nbconvert_exporter": "python",
   "pygments_lexer": "ipython3",
   "version": "3.11.2"
  }
 },
 "nbformat": 4,
 "nbformat_minor": 5
}
